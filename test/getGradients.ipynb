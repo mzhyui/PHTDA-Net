{
 "cells": [
  {
   "cell_type": "code",
   "execution_count": 22,
   "metadata": {
    "tags": []
   },
   "outputs": [],
   "source": [
    "import argparse\n",
    "import os\n",
    "import random\n",
    "import shutil\n",
    "import time\n",
    "import warnings\n",
    "import json\n",
    "import re\n",
    "\n",
    "import torch\n",
    "import torch.nn as nn\n",
    "import torch.nn.parallel\n",
    "import torch.backends.cudnn as cudnn\n",
    "import torch.distributed as dist\n",
    "import torch.optim\n",
    "import torch.utils.data\n",
    "import torch.utils.data.distributed\n",
    "from torch.utils.data.sampler import SubsetRandomSampler\n",
    "from torchvision import datasets, transforms\n",
    "\n",
    "from model_analysis_nets import *\n",
    "from CKA import linear_CKA, kernel_CKA\n",
    "\n",
    "import numpy as np\n",
    "import sympy\n",
    "import pandas\n",
    "import seaborn\n",
    "\n",
    "import matplotlib.pyplot as plt"
   ]
  },
  {
   "cell_type": "code",
   "execution_count": 2,
   "metadata": {},
   "outputs": [],
   "source": [
    "def getGradients(modelpth : str = \"\"):\n",
    "    if not modelpth:\n",
    "        return {}\n",
    "    model1 = LeNet().to(device)\n",
    "    model1.load_state_dict(torch.load(modelpth))\n",
    "    \n",
    "    criterion = nn.CrossEntropyLoss()\n",
    "    optimizer = torch.optim.SGD(model1.parameters(), lr=0.01, momentum=0.5)\n",
    "\n",
    "    for X, Y in test_loader:\n",
    "        X_test = X.to(device)\n",
    "        Y_test = Y.to(device)\n",
    "        # print(Y)\n",
    "        break\n",
    "\n",
    "    # Forward pass\n",
    "    outputs = model1(X_test)\n",
    "\n",
    "    # Compute the loss\n",
    "    loss = criterion(outputs, Y_test)\n",
    "\n",
    "    # Zero the gradients\n",
    "    optimizer.zero_grad()\n",
    "\n",
    "    # Backward pass\n",
    "    loss.backward()\n",
    "\n",
    "    # Access the gradients\n",
    "    gradients1 = {}\n",
    "    for name, param in model1.named_parameters():\n",
    "        gradients1[name] = param.grad\n",
    "    return gradients1"
   ]
  },
  {
   "cell_type": "code",
   "execution_count": 3,
   "metadata": {},
   "outputs": [],
   "source": [
    "trans_mnist = transforms.Compose([transforms.ToTensor(),\n",
    "                                  transforms.Normalize((0.1307,), (0.3081,))])\n",
    "dataset_test = datasets.MNIST('data/mnist/', train=False, download=True, transform=trans_mnist)\n",
    "test_loader = torch.utils.data.DataLoader(\n",
    "                dataset_test, batch_size=32,\n",
    "                num_workers=2, pin_memory=True, shuffle=False)"
   ]
  },
  {
   "cell_type": "code",
   "execution_count": 4,
   "metadata": {},
   "outputs": [],
   "source": [
    "device = 'cuda' if torch.cuda.is_available() else 'cpu'"
   ]
  },
  {
   "cell_type": "code",
   "execution_count": 5,
   "metadata": {},
   "outputs": [],
   "source": [
    "# attack_pth = \"../TDA-NN/3090/LG-FedAvg/save_attack_ub/cifar10/vgg_iidTrue_num100_C0.8_le2/shard2/pattern11-30--17-48-57/local_attack_save\"\n",
    "# normal_pth = \"../TDA-NN/3090/LG-FedAvg/save_attack_ub/cifar10/vgg_iidTrue_num100_C0.8_le2/shard2/pattern11-30--17-48-57/local_normal_save\"\n",
    "attack_pth = \"../TDA-NN/3090/LG-FedAvg/save_attack_ub/mnist/lenet_iidTrue_num100_C0.8_le2/shard2/pattern11-30--17-49-20/local_attack_save/\"\n",
    "normal_pth = \"../TDA-NN/3090/LG-FedAvg/save_attack_ub/mnist/lenet_iidTrue_num100_C0.8_le2/shard2/pattern11-30--17-49-20/local_normal_save/\""
   ]
  },
  {
   "cell_type": "code",
   "execution_count": null,
   "metadata": {
    "tags": []
   },
   "outputs": [],
   "source": [
    "# md1_pth = \"../TDA-NN/3090/LG-FedAvg/save_attack_ub/cifar10/resnet20_iidTrue_num100_C0.8_le2/shard2/pattern12-01--00-32-01/local_attack_save/iter_18_attack_0.pt\"\n",
    "# md2_pth = \"../TDA-NN/3090/LG-FedAvg/save_attack_ub/cifar10/resnet20_iidTrue_num100_C0.8_le2/shard2/pattern12-01--00-32-01/local_normal_save/iter_18_normal_21.pt\"\n",
    "# md1_pth = \"../TDA-NN/3090/LG-FedAvg/save_attack_ub/mnist/lenet_iidTrue_num100_C0.8_le2/shard2/pattern11-30--17-49-20/local_attack_save/iter_8_attack_5.pt\"\n",
    "# md2_pth = \"../TDA-NN/3090/LG-FedAvg/save_attack_ub/mnist/lenet_iidTrue_num100_C0.8_le2/shard2/pattern11-30--17-49-20/local_normal_save/iter_8_normal_24.pt\"\n",
    "# md3_pth = \"../TDA-NN/3090/LG-FedAvg/save_attack_ub/mnist/lenet_iidTrue_num100_C0.8_le2/shard2/pattern11-30--17-49-20/local_attack_save/iter_8_attack_2.pt\"\n",
    "# md4_pth = \"../TDA-NN/3090/LG-FedAvg/save_attack_ub/mnist/lenet_iidTrue_num100_C0.8_le2/shard2/pattern11-30--17-49-20/local_normal_save/iter_8_normal_27.pt\"\n",
    "\n",
    "# md1 = torch.load(md1_pth)\n",
    "# md2 = torch.load(md2_pth)\n",
    "# md3 = torch.load(md3_pth)\n",
    "# md4 = torch.load(md4_pth)\n",
    "# model1 = LeNet().to(device)\n",
    "# model1.load_state_dict(torch.load(md1_pth))\n",
    "# model2 = LeNet().to(device)\n",
    "# model2.load_state_dict(torch.load(md2_pth))\n",
    "# model3 = LeNet().to(device)\n",
    "# model3.load_state_dict(torch.load(md3_pth))\n",
    "# model4 = LeNet().to(device)\n",
    "# model4.load_state_dict(torch.load(md4_pth))"
   ]
  },
  {
   "cell_type": "code",
   "execution_count": 17,
   "metadata": {},
   "outputs": [
    {
     "name": "stdout",
     "output_type": "stream",
     "text": [
      "66\n",
      "99\n"
     ]
    }
   ],
   "source": [
    "modelpth_set = []\n",
    "round_max = 15\n",
    "client_max = 50\n",
    "for dirpath, dirnames, filenames in os.walk(attack_pth):\n",
    "    # Do something with the files or directories found\n",
    "    for filename in filenames:\n",
    "        # print(os.path.join(dirpath, filename).replace(\"\\\\\",\"/\"))\n",
    "        # if int(re.findall(\"\\d+\\.?\\d*\", filename)[0]) < round_max:\n",
    "        if int(re.findall(r'-?\\d+', filename)[0]) < round_max and int(re.findall(r'-?\\d+', filename)[1]) < client_max:\n",
    "            modelpth_set.append(os.path.join(dirpath, filename).replace(\"\\\\\",\"/\"))\n",
    "attacks = len(modelpth_set)\n",
    "print(len(modelpth_set))\n",
    "for dirpath, dirnames, filenames in os.walk(normal_pth):\n",
    "    # Do something with the files or directories found\n",
    "    for filename in filenames:\n",
    "        # print(os.path.join(dirpath, filename).replace(\"\\\\\",\"/\"))\n",
    "        if int(re.findall(r'-?\\d+', filename)[0]) < round_max and int(re.findall(r'-?\\d+', filename)[1]) < client_max:\n",
    "            modelpth_set.append(os.path.join(dirpath, filename).replace(\"\\\\\",\"/\"))\n",
    "\n",
    "print(len(modelpth_set))\n",
    "normals = len(modelpth_set) - attacks"
   ]
  },
  {
   "cell_type": "code",
   "execution_count": null,
   "metadata": {
    "tags": []
   },
   "outputs": [],
   "source": [
    "# print(model1,model3)\n"
   ]
  },
  {
   "cell_type": "code",
   "execution_count": null,
   "metadata": {},
   "outputs": [],
   "source": [
    "# criterion = nn.CrossEntropyLoss()\n",
    "# optimizer = torch.optim.SGD(model1.parameters(), lr=0.01, momentum=0.5)\n",
    "\n",
    "# for X, Y in test_loader:\n",
    "#     X_test = X.to(device)\n",
    "#     Y_test = Y.to(device)\n",
    "#     print(Y)\n",
    "#     break\n",
    "\n",
    "# # Forward pass\n",
    "# outputs = model1(X_test)\n",
    "\n",
    "# # Compute the loss\n",
    "# loss = criterion(outputs, Y_test)\n",
    "\n",
    "# # Zero the gradients\n",
    "# optimizer.zero_grad()\n",
    "\n",
    "# # Backward pass\n",
    "# loss.backward()\n",
    "\n",
    "# # Access the gradients\n",
    "# gradients1 = {}\n",
    "# for name, param in model1.named_parameters():\n",
    "#     gradients1[name] = param.grad"
   ]
  },
  {
   "cell_type": "code",
   "execution_count": 19,
   "metadata": {},
   "outputs": [
    {
     "name": "stdout",
     "output_type": "stream",
     "text": [
      "99\n"
     ]
    }
   ],
   "source": [
    "corr_depth = 1\n",
    "# model = LeNet().to(device)\n",
    "# model.load_state_dict(torch.load(modelpth_set[0]))\n",
    "# for name, w in model.named_parameters():\n",
    "#             if \"weight\" in name:\n",
    "#                 corr_depth += 1\n",
    "\n",
    "corr_max = normals + attacks\n",
    "corr = np.zeros((corr_max, corr_max, corr_depth))\n",
    "\n",
    "gradientlist = []\n",
    "for idx, modelp1 in enumerate(modelpth_set):\n",
    "    gradientlist.append(getGradients(modelp1))\n",
    "\n",
    "print(len(gradientlist))\n",
    "\n",
    "for id1, modelp1 in enumerate(gradientlist):\n",
    "    if id1 >= corr_max:\n",
    "        break\n",
    "    for id2, modelp2 in enumerate(gradientlist):\n",
    "        if id2 >= corr_max:\n",
    "            break\n",
    "        if id2 <= id1:\n",
    "            continue\n",
    "        gradients1 = gradientlist[id1]\n",
    "        gradients2 = gradientlist[id2]\n",
    "        \n",
    "        corrlist = []\n",
    "#         for w in gradients1.keys():\n",
    "#             if \"weight\" in w:\n",
    "#                 acts1 = gradients1[w]\n",
    "#                 acts2 = gradients2[w]\n",
    "#                 # print(\"activation shapes\", acts1.shape, acts2.shape)\n",
    "#                 factors = sympy.factorint(acts1.reshape(-1,1).shape[0])\n",
    "#                 # f = factors.items()[-1]\n",
    "#                 f = int(sorted(factors.keys())[-1]) ** (factors[sorted(factors.keys())[-1]]-1)\n",
    "                \n",
    "#                 acts1 = acts1.cpu().reshape((f,-1))\n",
    "#                 acts2 = acts2.cpu().reshape((f,-1))\n",
    "#                 l = linear_CKA(acts1.T, acts2.T)\n",
    "#                 k = kernel_CKA(acts1.T, acts2.T)\n",
    "#                 # print('Linear CKA: {}'.format(l))\n",
    "#                 # print('RBF Kernel: {}'.format(k))\n",
    "#                 corrlist.append((l+k)/2)\n",
    "        acts1 = gradients1[\"layer3.0.weight\"]\n",
    "        acts2 = gradients2[\"layer3.0.weight\"]\n",
    "        acts1 = acts1.cpu().reshape((50,-1))\n",
    "        acts2 = acts2.cpu().reshape((50,-1))\n",
    "        l = linear_CKA(acts1.T, acts2.T)\n",
    "        k = kernel_CKA(acts1.T, acts2.T)\n",
    "        corrlist.append((l+k)/2)\n",
    "        # print(corrlist)\n",
    "                \n",
    "        corr[id1][id2] = np.array(corrlist)\n"
   ]
  },
  {
   "cell_type": "code",
   "execution_count": 20,
   "metadata": {},
   "outputs": [
    {
     "name": "stdout",
     "output_type": "stream",
     "text": [
      "[[[0.        ]\n",
      "  [0.74330697]\n",
      "  [0.8367257 ]\n",
      "  ...\n",
      "  [0.60688541]\n",
      "  [0.75783073]\n",
      "  [0.79232584]]\n",
      "\n",
      " [[0.        ]\n",
      "  [0.        ]\n",
      "  [0.52616814]\n",
      "  ...\n",
      "  [0.49615328]\n",
      "  [0.76272326]\n",
      "  [0.70104906]]\n",
      "\n",
      " [[0.        ]\n",
      "  [0.        ]\n",
      "  [0.        ]\n",
      "  ...\n",
      "  [0.63174296]\n",
      "  [0.61699242]\n",
      "  [0.68088126]]\n",
      "\n",
      " ...\n",
      "\n",
      " [[0.        ]\n",
      "  [0.        ]\n",
      "  [0.        ]\n",
      "  ...\n",
      "  [0.        ]\n",
      "  [0.6675863 ]\n",
      "  [0.79338153]]\n",
      "\n",
      " [[0.        ]\n",
      "  [0.        ]\n",
      "  [0.        ]\n",
      "  ...\n",
      "  [0.        ]\n",
      "  [0.        ]\n",
      "  [0.90227139]]\n",
      "\n",
      " [[0.        ]\n",
      "  [0.        ]\n",
      "  [0.        ]\n",
      "  ...\n",
      "  [0.        ]\n",
      "  [0.        ]\n",
      "  [0.        ]]]\n"
     ]
    }
   ],
   "source": [
    "print(corr)"
   ]
  },
  {
   "cell_type": "code",
   "execution_count": 23,
   "metadata": {},
   "outputs": [
    {
     "data": {
      "text/plain": [
       "<matplotlib.colorbar.Colorbar at 0x23e51c43850>"
      ]
     },
     "execution_count": 23,
     "metadata": {},
     "output_type": "execute_result"
    },
    {
     "data": {
      "image/png": "[encoded data removed]",
      "text/plain": [
       "<Figure size 432x288 with 2 Axes>"
      ]
     },
     "metadata": {
      "needs_background": "light"
     },
     "output_type": "display_data"
    }
   ],
   "source": [
    "plt.imshow(corr, cmap='hot')\n",
    "plt.colorbar()"
   ]
  },
  {
   "cell_type": "code",
   "execution_count": null,
   "metadata": {
    "tags": []
   },
   "outputs": [],
   "source": [
    "# criterion = nn.CrossEntropyLoss()\n",
    "# optimizer = torch.optim.SGD(model2.parameters(), lr=0.01, momentum=0.5)\n",
    "\n",
    "# for X, Y in test_loader:\n",
    "#     X_test = X.to(device)\n",
    "#     Y_test = Y.to(device)\n",
    "#     print(Y)\n",
    "#     break\n",
    "\n",
    "# # Forward pass\n",
    "# outputs = model2(X_test)\n",
    "\n",
    "# # Compute the loss\n",
    "# loss = criterion(outputs, Y_test)\n",
    "\n",
    "# # Zero the gradients\n",
    "# optimizer.zero_grad()\n",
    "\n",
    "# # Backward pass\n",
    "# loss.backward()\n",
    "\n",
    "# # Access the gradients\n",
    "# gradients2 = {}\n",
    "# for name, param in model2.named_parameters():\n",
    "#     gradients2[name] = param.grad"
   ]
  },
  {
   "cell_type": "code",
   "execution_count": null,
   "metadata": {
    "jupyter": {
     "source_hidden": true
    },
    "tags": []
   },
   "outputs": [],
   "source": [
    "# criterion = nn.CrossEntropyLoss()\n",
    "# optimizer = torch.optim.SGD(model3.parameters(), lr=0.01, momentum=0.5)\n",
    "\n",
    "# for X, Y in test_loader:\n",
    "#     X_test = X.to(device)\n",
    "#     Y_test = Y.to(device)\n",
    "#     break\n",
    "\n",
    "# # Forward pass\n",
    "# outputs = model3(X_test)\n",
    "\n",
    "# # Compute the loss\n",
    "# loss = criterion(outputs, Y_test)\n",
    "\n",
    "# # Zero the gradients\n",
    "# optimizer.zero_grad()\n",
    "\n",
    "# # Backward pass\n",
    "# loss.backward()\n",
    "\n",
    "# # Access the gradients\n",
    "# gradients3 = {}\n",
    "# for name, param in model3.named_parameters():\n",
    "#     gradients3[name] = param.grad"
   ]
  },
  {
   "cell_type": "code",
   "execution_count": null,
   "metadata": {
    "jupyter": {
     "source_hidden": true
    },
    "tags": []
   },
   "outputs": [],
   "source": [
    "# criterion = nn.CrossEntropyLoss()\n",
    "# optimizer = torch.optim.SGD(model4.parameters(), lr=0.01, momentum=0.5)\n",
    "\n",
    "# for X, Y in test_loader:\n",
    "#     X_test = X.to(device)\n",
    "#     Y_test = Y.to(device)\n",
    "#     break\n",
    "\n",
    "# # Forward pass\n",
    "# outputs = model4(X_test)\n",
    "\n",
    "# # Compute the loss\n",
    "# loss = criterion(outputs, Y_test)\n",
    "\n",
    "# # Zero the gradients\n",
    "# optimizer.zero_grad()\n",
    "\n",
    "# # Backward pass\n",
    "# loss.backward()\n",
    "\n",
    "# # Access the gradients\n",
    "# gradients4 = {}\n",
    "# for name, param in model4.named_parameters():\n",
    "#     gradients4[name] = param.grad"
   ]
  },
  {
   "cell_type": "code",
   "execution_count": null,
   "metadata": {},
   "outputs": [],
   "source": [
    "# print(gradients1.keys())"
   ]
  },
  {
   "cell_type": "code",
   "execution_count": null,
   "metadata": {},
   "outputs": [],
   "source": [
    "acts1 = gradients1[\"layer3.0.weight\"]\n",
    "acts2 = gradients2[\"layer3.0.weight\"]\n",
    "acts3 = gradients3[\"layer3.0.weight\"]\n",
    "acts4 = gradients4[\"layer3.0.weight\"]"
   ]
  },
  {
   "cell_type": "code",
   "execution_count": null,
   "metadata": {},
   "outputs": [],
   "source": [
    "print(\"activation shapes\", acts1.shape, acts2.shape)"
   ]
  },
  {
   "cell_type": "code",
   "execution_count": null,
   "metadata": {},
   "outputs": [],
   "source": [
    "acts1 = acts1.cpu().reshape((50,-1))\n",
    "acts2 = acts2.cpu().reshape((50,-1))\n",
    "acts3 = acts3.cpu().reshape((50,-1))\n",
    "acts4 = acts4.cpu().reshape((50,-1))\n"
   ]
  },
  {
   "cell_type": "code",
   "execution_count": null,
   "metadata": {},
   "outputs": [],
   "source": [
    "print('Linear CKA: {}'.format(linear_CKA(acts1.T, acts2.T)))\n",
    "print('RBF Kernel: {}'.format(kernel_CKA(acts1.T, acts2.T)))"
   ]
  },
  {
   "cell_type": "code",
   "execution_count": null,
   "metadata": {},
   "outputs": [],
   "source": [
    "print('Linear CKA: {}'.format(linear_CKA(acts4.T, acts3.T)))\n",
    "print('RBF Kernel: {}'.format(kernel_CKA(acts4.T, acts3.T)))"
   ]
  },
  {
   "cell_type": "code",
   "execution_count": null,
   "metadata": {},
   "outputs": [],
   "source": [
    "print('Linear CKA: {}'.format(linear_CKA(acts1.T, acts3.T)))\n",
    "print('RBF Kernel: {}'.format(kernel_CKA(acts1.T, acts3.T)))"
   ]
  },
  {
   "cell_type": "code",
   "execution_count": null,
   "metadata": {},
   "outputs": [],
   "source": [
    "print('Linear CKA: {}'.format(linear_CKA(acts2.T, acts4.T)))\n",
    "print('Linear CKA: {}'.format(kernel_CKA(acts2.T, acts4.T)))"
   ]
  }
 ],
 "metadata": {
  "kernelspec": {
   "display_name": "Python 3 (ipykernel)",
   "language": "python",
   "name": "python3"
  },
  "language_info": {
   "codemirror_mode": {
    "name": "ipython",
    "version": 3
   },
   "file_extension": ".py",
   "mimetype": "text/x-python",
   "name": "python",
   "nbconvert_exporter": "python",
   "pygments_lexer": "ipython3",
   "version": "3.8.13 (default, Mar 28 2022, 11:38:47) \n[GCC 7.5.0]"
  },
  "vscode": {
   "interpreter": {
    "hash": "8bff0657a98b8ee576cbe89028f6a544b770fee234379978e147d89ef60d92ed"
   }
  }
 },
 "nbformat": 4,
 "nbformat_minor": 4
}
