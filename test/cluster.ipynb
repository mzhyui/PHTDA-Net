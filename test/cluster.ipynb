{
 "cells": [
  {
   "cell_type": "code",
   "execution_count": 2,
   "metadata": {},
   "outputs": [],
   "source": [
    "import argparse\n",
    "import os\n",
    "import random\n",
    "import shutil\n",
    "import time\n",
    "import warnings\n",
    "import json\n",
    "import re\n",
    "\n",
    "import torch\n",
    "import torch.nn as nn\n",
    "import torch.nn.parallel\n",
    "import torch.backends.cudnn as cudnn\n",
    "import torch.distributed as dist\n",
    "import torch.optim\n",
    "import torch.utils.data\n",
    "import torch.utils.data.distributed\n",
    "from torch.utils.data.sampler import SubsetRandomSampler\n",
    "from torchvision import datasets, transforms\n",
    "\n",
    "from model_analysis_nets import *\n",
    "from CKA import linear_CKA, kernel_CKA\n",
    "\n",
    "import numpy as np\n",
    "import sympy\n",
    "import pandas\n",
    "import seaborn\n",
    "\n",
    "import matplotlib.pyplot as plt\n",
    "from scipy.cluster.hierarchy import dendrogram, linkage, fcluster, fclusterdata\n",
    "import scipy"
   ]
  },
  {
   "cell_type": "code",
   "execution_count": 3,
   "metadata": {},
   "outputs": [],
   "source": [
    "def getGradients(modelpth : str = \"\"):\n",
    "    if not modelpth:\n",
    "        return {}\n",
    "    model1 = LeNet().to(device)\n",
    "    model1.load_state_dict(torch.load(modelpth))\n",
    "    \n",
    "    criterion = nn.CrossEntropyLoss()\n",
    "    optimizer = torch.optim.SGD(model1.parameters(), lr=0.01, momentum=0.5)\n",
    "\n",
    "    for X, Y in test_loader:\n",
    "        X_test = X.to(device)\n",
    "        Y_test = Y.to(device)\n",
    "        # print(Y)\n",
    "        break\n",
    "\n",
    "    # Forward pass\n",
    "    outputs = model1(X_test)\n",
    "\n",
    "    # Compute the loss\n",
    "    loss = criterion(outputs, Y_test)\n",
    "\n",
    "    # Zero the gradients\n",
    "    optimizer.zero_grad()\n",
    "\n",
    "    # Backward pass\n",
    "    loss.backward()\n",
    "\n",
    "    # Access the gradients\n",
    "    gradients1 = {}\n",
    "    for name, param in model1.named_parameters():\n",
    "        gradients1[name] = param.grad\n",
    "    return gradients1"
   ]
  },
  {
   "cell_type": "code",
   "execution_count": 4,
   "metadata": {},
   "outputs": [],
   "source": [
    "trans_mnist = transforms.Compose([transforms.ToTensor(),\n",
    "                                  transforms.Normalize((0.1307,), (0.3081,))])\n",
    "dataset_test = datasets.MNIST('data/mnist/', train=False, download=True, transform=trans_mnist)\n",
    "test_loader = torch.utils.data.DataLoader(\n",
    "                dataset_test, batch_size=32,\n",
    "                num_workers=2, pin_memory=True, shuffle=False)"
   ]
  },
  {
   "cell_type": "code",
   "execution_count": 5,
   "metadata": {},
   "outputs": [],
   "source": [
    "device = 'cuda' if torch.cuda.is_available() else 'cpu'"
   ]
  },
  {
   "cell_type": "code",
   "execution_count": 6,
   "metadata": {},
   "outputs": [],
   "source": [
    "attack_pth = \"../TDA-NN/3090/LG-FedAvg/save_attack_ub/mnist/lenet_iidTrue_num100_C0.8_le2/shard2/pattern11-30--17-49-20/local_attack_save/\"\n",
    "normal_pth = \"../TDA-NN/3090/LG-FedAvg/save_attack_ub/mnist/lenet_iidTrue_num100_C0.8_le2/shard2/pattern11-30--17-49-20/local_normal_save/\""
   ]
  },
  {
   "cell_type": "code",
   "execution_count": 7,
   "metadata": {},
   "outputs": [
    {
     "name": "stdout",
     "output_type": "stream",
     "text": [
      "66\n",
      "99\n"
     ]
    }
   ],
   "source": [
    "modelpth_set = []\n",
    "round_max = 15\n",
    "client_max = 50\n",
    "for dirpath, dirnames, filenames in os.walk(attack_pth):\n",
    "    # Do something with the files or directories found\n",
    "    for filename in filenames:\n",
    "        # print(os.path.join(dirpath, filename).replace(\"\\\\\",\"/\"))\n",
    "        # if int(re.findall(\"\\d+\\.?\\d*\", filename)[0]) < round_max:\n",
    "        if int(re.findall(r'-?\\d+', filename)[0]) < round_max and int(re.findall(r'-?\\d+', filename)[1]) < client_max:\n",
    "            modelpth_set.append(os.path.join(dirpath, filename).replace(\"\\\\\",\"/\"))\n",
    "attacks = len(modelpth_set)\n",
    "print(len(modelpth_set))\n",
    "for dirpath, dirnames, filenames in os.walk(normal_pth):\n",
    "    # Do something with the files or directories found\n",
    "    for filename in filenames:\n",
    "        # print(os.path.join(dirpath, filename).replace(\"\\\\\",\"/\"))\n",
    "        if int(re.findall(r'-?\\d+', filename)[0]) < round_max and int(re.findall(r'-?\\d+', filename)[1]) < client_max:\n",
    "            modelpth_set.append(os.path.join(dirpath, filename).replace(\"\\\\\",\"/\"))\n",
    "\n",
    "print(len(modelpth_set))\n",
    "normals = len(modelpth_set) - attacks"
   ]
  },
  {
   "cell_type": "code",
   "execution_count": 8,
   "metadata": {},
   "outputs": [
    {
     "name": "stderr",
     "output_type": "stream",
     "text": [
      "Traceback (most recent call last):\n",
      "  File \"/opt/conda/envs/torch/lib/python3.8/multiprocessing/util.py\", line 300, in _run_finalizers\n",
      "    finalizer()\n",
      "  File \"/opt/conda/envs/torch/lib/python3.8/multiprocessing/util.py\", line 224, in __call__\n",
      "    res = self._callback(*self._args, **self._kwargs)\n",
      "  File \"/opt/conda/envs/torch/lib/python3.8/multiprocessing/util.py\", line 133, in _remove_temp_dir\n",
      "    rmtree(tempdir)\n",
      "  File \"/opt/conda/envs/torch/lib/python3.8/shutil.py\", line 722, in rmtree\n",
      "    onerror(os.rmdir, path, sys.exc_info())\n",
      "  File \"/opt/conda/envs/torch/lib/python3.8/shutil.py\", line 720, in rmtree\n",
      "    os.rmdir(path)\n",
      "OSError: [Errno 39] Directory not empty: '/tmp/pymp-jr0npsr6'\n"
     ]
    },
    {
     "name": "stdout",
     "output_type": "stream",
     "text": [
      "99\n"
     ]
    }
   ],
   "source": [
    "corr_depth = 1\n",
    "# model = LeNet().to(device)\n",
    "# model.load_state_dict(torch.load(modelpth_set[0]))\n",
    "# for name, w in model.named_parameters():\n",
    "#             if \"weight\" in name:\n",
    "#                 corr_depth += 1\n",
    "\n",
    "corr_max = normals + attacks\n",
    "corr = np.zeros((corr_max, corr_max, corr_depth))\n",
    "\n",
    "gradientlist = []\n",
    "for idx, modelp1 in enumerate(modelpth_set):\n",
    "    gradientlist.append(getGradients(modelp1))\n",
    "\n",
    "print(len(gradientlist))\n",
    "\n",
    "for id1, modelp1 in enumerate(gradientlist):\n",
    "    if id1 >= corr_max:\n",
    "        break\n",
    "    for id2, modelp2 in enumerate(gradientlist):\n",
    "        if id2 >= corr_max:\n",
    "            break\n",
    "        if id2 <= id1:\n",
    "            continue\n",
    "        gradients1 = gradientlist[id1]\n",
    "        gradients2 = gradientlist[id2]\n",
    "        \n",
    "        corrlist = []\n",
    "#         for w in gradients1.keys():\n",
    "#             if \"weight\" in w:\n",
    "#                 acts1 = gradients1[w]\n",
    "#                 acts2 = gradients2[w]\n",
    "#                 # print(\"activation shapes\", acts1.shape, acts2.shape)\n",
    "#                 factors = sympy.factorint(acts1.reshape(-1,1).shape[0])\n",
    "#                 # f = factors.items()[-1]\n",
    "#                 f = int(sorted(factors.keys())[-1]) ** (factors[sorted(factors.keys())[-1]]-1)\n",
    "                \n",
    "#                 acts1 = acts1.cpu().reshape((f,-1))\n",
    "#                 acts2 = acts2.cpu().reshape((f,-1))\n",
    "#                 l = linear_CKA(acts1.T, acts2.T)\n",
    "#                 k = kernel_CKA(acts1.T, acts2.T)\n",
    "#                 # print('Linear CKA: {}'.format(l))\n",
    "#                 # print('RBF Kernel: {}'.format(k))\n",
    "#                 corrlist.append((l+k)/2)\n",
    "        acts1 = gradients1[\"layer3.0.weight\"]\n",
    "        acts2 = gradients2[\"layer3.0.weight\"]\n",
    "        acts1 = acts1.cpu().reshape((50,-1))\n",
    "        acts2 = acts2.cpu().reshape((50,-1))\n",
    "        l = linear_CKA(acts1.T, acts2.T)\n",
    "        k = kernel_CKA(acts1.T, acts2.T)\n",
    "        corrlist.append((l+k)/2)\n",
    "        # print(corrlist)\n",
    "                \n",
    "        corr[id1][id2] = np.array(corrlist)\n"
   ]
  },
  {
   "cell_type": "code",
   "execution_count": 9,
   "metadata": {},
   "outputs": [
    {
     "data": {
      "text/plain": [
       "(99, 99)"
      ]
     },
     "execution_count": 9,
     "metadata": {},
     "output_type": "execute_result"
    }
   ],
   "source": [
    "corr.reshape(-1,99).shape"
   ]
  },
  {
   "cell_type": "code",
   "execution_count": 10,
   "metadata": {},
   "outputs": [
    {
     "name": "stdout",
     "output_type": "stream",
     "text": [
      "[0.73965014 0.83576795 0.89839166 ... 0.88712896 0.81569855 0.90342335]\n"
     ]
    }
   ],
   "source": [
    "print(scipy.spatial.distance.squareform(corr.reshape(-1,99) + corr.reshape(-1,99).T))"
   ]
  },
  {
   "cell_type": "code",
   "execution_count": 16,
   "metadata": {},
   "outputs": [],
   "source": [
    "Z = linkage(1 - (corr.reshape(-1,99) + corr.reshape(-1,99).T), 'ward')\n",
    "# Z = linkage(scipy.spatial.distance.squareform(corr.reshape(-1,99) + corr.reshape(-1,99).T), 'ward')\n"
   ]
  },
  {
   "cell_type": "code",
   "execution_count": 17,
   "metadata": {},
   "outputs": [
    {
     "data": {
      "image/png": "[encoded data removed]",
      "text/plain": [
       "<Figure size 2500x1000 with 1 Axes>"
      ]
     },
     "metadata": {},
     "output_type": "display_data"
    }
   ],
   "source": [
    "fig = plt.figure(figsize=(25, 10))\n",
    "dn = dendrogram(Z)\n",
    "plt.show()"
   ]
  },
  {
   "cell_type": "code",
   "execution_count": 21,
   "metadata": {},
   "outputs": [
    {
     "name": "stdout",
     "output_type": "stream",
     "text": [
      "[2 4 1 2 3 4 4 2 4 3 4 1 3 4 3 4 2 3 2 3 2 2 4 4 4 3 4 2 4 4 4 3 4 4 4 3 1\n",
      " 2 1 1 2 4 3 1 2 2 4 2 4 4 1 2 4 4 1 1 2 4 2 4 4 4 4 4 2 4 2 2 1 1 2 1 1 2\n",
      " 1 2 1 1 1 1 2 1 1 2 2 1 1 1 2 2 1 1 1 1 2 2 2 1 1]\n",
      "[1, 2, 3, 4]\n"
     ]
    }
   ],
   "source": [
    "max_d = 4\n",
    "clusters = fcluster(Z, max_d, criterion='distance')\n",
    "print(clusters)\n",
    "unique_arr = list(set(clusters))\n",
    "print(unique_arr)"
   ]
  },
  {
   "cell_type": "code",
   "execution_count": 19,
   "metadata": {},
   "outputs": [
    {
     "name": "stdout",
     "output_type": "stream",
     "text": [
      "cata = 1, 30\n"
     ]
    }
   ],
   "source": [
    "f = 2\n",
    "count = np.count_nonzero(clusters == f)\n",
    "print(f\"cata = {1},\",count)"
   ]
  },
  {
   "cell_type": "code",
   "execution_count": 22,
   "metadata": {},
   "outputs": [
    {
     "name": "stdout",
     "output_type": "stream",
     "text": [
      "1 69.06896551724138\n",
      "2 54.8\n",
      "3 21.8\n",
      "4 36.166666666666664\n"
     ]
    }
   ],
   "source": [
    "for u in unique_arr:\n",
    "    cluster_indices = [i for i, x in enumerate(clusters) if x == u]\n",
    "    cluster_values = [i+1 for i in cluster_indices]\n",
    "    average_cluster_u = sum(cluster_values) / len(cluster_values)\n",
    "    print(u, average_cluster_u)"
   ]
  },
  {
   "cell_type": "code",
   "execution_count": 15,
   "metadata": {},
   "outputs": [
    {
     "name": "stderr",
     "output_type": "stream",
     "text": [
      "/tmp/ipykernel_280345/2637727204.py:5: ClusterWarning: scipy.cluster: The symmetric non-negative hollow observation matrix looks suspiciously like an uncondensed distance matrix\n",
      "  Z = linkage(X, 'single')\n"
     ]
    },
    {
     "data": {
      "image/png": "[encoded data removed]",
      "text/plain": [
       "<Figure size 2500x1000 with 1 Axes>"
      ]
     },
     "metadata": {},
     "output_type": "display_data"
    }
   ],
   "source": [
    "X = np.array([[0, 2, 1, 4],\n",
    "              [2, 0, 3, 1],\n",
    "              [1, 3, 0, 5],\n",
    "              [4, 1, 5, 0]])\n",
    "Z = linkage(X, 'single')\n",
    "fig = plt.figure(figsize=(25, 10))\n",
    "dn = dendrogram(Z)\n",
    "plt.show()"
   ]
  }
 ],
 "metadata": {
  "kernelspec": {
   "display_name": "torch",
   "language": "python",
   "name": "python3"
  },
  "language_info": {
   "codemirror_mode": {
    "name": "ipython",
    "version": 3
   },
   "file_extension": ".py",
   "mimetype": "text/x-python",
   "name": "python",
   "nbconvert_exporter": "python",
   "pygments_lexer": "ipython3",
   "version": "3.8.13"
  },
  "orig_nbformat": 4,
  "vscode": {
   "interpreter": {
    "hash": "8bff0657a98b8ee576cbe89028f6a544b770fee234379978e147d89ef60d92ed"
   }
  }
 },
 "nbformat": 4,
 "nbformat_minor": 2
}
