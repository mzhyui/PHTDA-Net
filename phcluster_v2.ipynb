{
 "cells": [
  {
   "cell_type": "code",
   "execution_count": 21,
   "metadata": {},
   "outputs": [
    {
     "ename": "RuntimeError",
     "evalue": "Diagram must be an array of size n x 2",
     "output_type": "error",
     "traceback": [
      "\u001b[0;31m---------------------------------------------------------------------------\u001b[0m",
      "\u001b[0;31mRuntimeError\u001b[0m                              Traceback (most recent call last)",
      "Cell \u001b[0;32mIn [21], line 26\u001b[0m\n\u001b[1;32m     24\u001b[0m \u001b[39mfor\u001b[39;00m i \u001b[39min\u001b[39;00m \u001b[39mrange\u001b[39m(n_barcodes):\n\u001b[1;32m     25\u001b[0m     \u001b[39mfor\u001b[39;00m j \u001b[39min\u001b[39;00m \u001b[39mrange\u001b[39m(i\u001b[39m+\u001b[39m\u001b[39m1\u001b[39m, n_barcodes):\n\u001b[0;32m---> 26\u001b[0m         distance \u001b[39m=\u001b[39m gd\u001b[39m.\u001b[39;49mbottleneck_distance(loops_dgm[i], loops_dgm[j])\n\u001b[1;32m     27\u001b[0m         distance_matrix[i, j] \u001b[39m=\u001b[39m distance\n\u001b[1;32m     28\u001b[0m         distance_matrix[j, i] \u001b[39m=\u001b[39m distance\n",
      "\u001b[0;31mRuntimeError\u001b[0m: Diagram must be an array of size n x 2"
     ]
    }
   ],
   "source": [
    "import numpy as np\n",
    "import gudhi as gd\n",
    "from scipy.cluster.hierarchy import linkage, fcluster\n",
    "import matplotlib.pyplot as plt\n",
    "\n",
    "# Generate synthetic data (two concentric circles)\n",
    "n_points = 100\n",
    "angles = np.linspace(0, 2 * np.pi, n_points)\n",
    "circle1 = np.column_stack([np.cos(angles), np.sin(angles)])\n",
    "circle2 = 0.5 * circle1\n",
    "data = np.vstack([circle1, circle2])\n",
    "\n",
    "# Compute persistence homology with Gudhi\n",
    "rips_complex = gd.RipsComplex(points=data, max_edge_length=2)\n",
    "simplex_tree = rips_complex.create_simplex_tree(max_dimension=2)\n",
    "dgms = simplex_tree.persistence()\n",
    "\n",
    "# Extract 1-dimensional persistence diagram (loops)\n",
    "loops_dgm = np.array([p[1] for p in dgms if p[0] == 1])\n",
    "\n",
    "# Compute pairwise bottleneck distances\n",
    "n_barcodes = len(loops_dgm)\n",
    "distance_matrix = np.zeros((n_barcodes, n_barcodes))\n",
    "for i in range(n_barcodes):\n",
    "    for j in range(i+1, n_barcodes):\n",
    "        distance = gd.bottleneck_distance(loops_dgm[i], loops_dgm[j])\n",
    "        distance_matrix[i, j] = distance\n",
    "        distance_matrix[j, i] = distance\n",
    "\n",
    "# Perform hierarchical clustering with bottleneck distance\n",
    "Z = linkage(distance_matrix, method='ward')\n",
    "clusters = fcluster(Z, 2, criterion='maxclust')  # Define the number of clusters\n",
    "\n",
    "# Assign each data point to its corresponding barcode's cluster\n",
    "point_to_barcode_idx = np.repeat(np.arange(n_points), 2)\n",
    "point_clusters = clusters[point_to_barcode_idx]\n",
    "\n",
    "# Plot the resulting clustering\n",
    "plt.figure()\n",
    "plt.title('Clustering Result')\n",
    "plt.scatter(data[:, 0], data[:, 1], c=point_clusters, cmap='viridis')\n",
    "plt.show()\n"
   ]
  }
 ],
 "metadata": {
  "kernelspec": {
   "display_name": "torch",
   "language": "python",
   "name": "python3"
  },
  "language_info": {
   "codemirror_mode": {
    "name": "ipython",
    "version": 3
   },
   "file_extension": ".py",
   "mimetype": "text/x-python",
   "name": "python",
   "nbconvert_exporter": "python",
   "pygments_lexer": "ipython3",
   "version": "3.8.13 (default, Mar 28 2022, 11:38:47) \n[GCC 7.5.0]"
  },
  "orig_nbformat": 4,
  "vscode": {
   "interpreter": {
    "hash": "8bff0657a98b8ee576cbe89028f6a544b770fee234379978e147d89ef60d92ed"
   }
  }
 },
 "nbformat": 4,
 "nbformat_minor": 2
}
