{
 "cells": [
  {
   "cell_type": "code",
   "execution_count": 13,
   "metadata": {},
   "outputs": [],
   "source": [
    "import numpy as np\n",
    "def disecret(listA):\n",
    "    avg = np.mean(listA)\n",
    "    for idx in range(len(listA)):\n",
    "        if listA[idx] > avg:\n",
    "            listA[idx] = 1\n",
    "        else:\n",
    "            listA[idx] = 0\n",
    "    \n",
    "    return listA"
   ]
  },
  {
   "cell_type": "code",
   "execution_count": 2,
   "metadata": {},
   "outputs": [],
   "source": [
    "def jaccard_distance(setA, setB):\n",
    "    # Convert lists to sets if they are not\n",
    "    if not isinstance(setA, set):\n",
    "        setA = set(setA)\n",
    "    if not isinstance(setB, set):\n",
    "        setB = set(setB)\n",
    "    \n",
    "    # Calculate the size of the intersection of setA and setB\n",
    "    intersection_size = len(setA & setB)\n",
    "    \n",
    "    # Calculate the size of the union of setA and setB\n",
    "    union_size = len(setA | setB)\n",
    "    \n",
    "    # Calculate Jaccard Similarity\n",
    "    jaccard_similarity = intersection_size / float(union_size)\n",
    "    \n",
    "    # Calculate Jaccard Distance\n",
    "    jaccard_distance = 1.0 - jaccard_similarity\n",
    "    \n",
    "    return jaccard_distance\n",
    "\n",
    "def jaccard_distance_list(listA, listB):\n",
    "    listA = zip(range(len(listA)), listA)\n",
    "    listB = zip(range(len(listB)), listB)\n",
    "    \n",
    "    # Convert lists to sets if they are not\n",
    "    if not isinstance(listA, set):\n",
    "        setA = set(listA)\n",
    "    if not isinstance(listB, set):\n",
    "        setB = set(listB)\n",
    "\n",
    "    \n",
    "    # Calculate the size of the intersection of setA and setB\n",
    "    intersection_size = len(setA & setB)\n",
    "    \n",
    "    # Calculate the size of the union of setA and setB\n",
    "    union_size = len(setA | setB)\n",
    "    \n",
    "    # Calculate Jaccard Similarity\n",
    "    jaccard_similarity = intersection_size / float(union_size)\n",
    "    \n",
    "    # Calculate Jaccard Distance\n",
    "    jaccard_distance = 1.0 - jaccard_similarity\n",
    "    \n",
    "    return jaccard_distance\n"
   ]
  },
  {
   "cell_type": "code",
   "execution_count": 10,
   "metadata": {},
   "outputs": [],
   "source": [
    "import torch\n",
    "import torch.nn as nn\n",
    "\n",
    "def layer_weights_to_list(layer):\n",
    "    # Extract the weight tensor from the layer\n",
    "    weight_tensor = layer.weight.data\n",
    "    \n",
    "    # Flatten the weight tensor into a 1D tensor\n",
    "    weight_flat = weight_tensor.flatten()\n",
    "    \n",
    "    # Convert the 1D tensor into a Python list\n",
    "    weight_list = weight_flat.tolist()\n",
    "    \n",
    "    # # Convert the list into a set\n",
    "    # weight_set = list(weight_list)\n",
    "    \n",
    "    return weight_list\n",
    "\n"
   ]
  },
  {
   "cell_type": "code",
   "execution_count": 16,
   "metadata": {},
   "outputs": [
    {
     "name": "stdout",
     "output_type": "stream",
     "text": [
      "Weight Set: [0.3686268627643585, -0.587741494178772, -0.22540606558322906, -0.37913137674331665, 0.2527139186859131, 0.40976133942604065]\n",
      "Weight Set: [-0.42251792550086975, 0.34751155972480774, -0.35367006063461304, 0.565434455871582, 0.4000333547592163, 0.060405030846595764]\n"
     ]
    }
   ],
   "source": [
    "\n",
    "# Example: Create a simple linear layer with 2 input features and 3 output features\n",
    "linear_layer_1 = nn.Linear(2, 3)\n",
    "linear_layer_2 = nn.Linear(2, 3)\n",
    "\n",
    "# Convert the layer weights to a set\n",
    "weight_set_1 = layer_weights_to_list(linear_layer_1)\n",
    "print(\"Weight Set:\", weight_set_1)\n",
    "weight_set_2 = layer_weights_to_list(linear_layer_2)\n",
    "print(\"Weight Set:\", weight_set_2)\n"
   ]
  },
  {
   "cell_type": "code",
   "execution_count": 17,
   "metadata": {},
   "outputs": [
    {
     "name": "stdout",
     "output_type": "stream",
     "text": [
      "Weight Set: [1, 0, 0, 0, 1, 1]\n",
      "Weight Set: [0, 1, 0, 1, 1, 0]\n"
     ]
    }
   ],
   "source": [
    "weight_set_dis_1 = disecret(weight_set_1)\n",
    "print(\"Weight Set:\", weight_set_dis_1)\n",
    "weight_set_dis_2 = disecret(weight_set_2)\n",
    "print(\"Weight Set:\", weight_set_dis_2)"
   ]
  },
  {
   "cell_type": "code",
   "execution_count": 18,
   "metadata": {},
   "outputs": [
    {
     "name": "stdout",
     "output_type": "stream",
     "text": [
      "Jaccard Distance: 0.8\n"
     ]
    }
   ],
   "source": [
    "print(\"Jaccard Distance:\", jaccard_distance_list(weight_set_dis_1, weight_set_dis_2))"
   ]
  },
  {
   "cell_type": "code",
   "execution_count": null,
   "metadata": {},
   "outputs": [],
   "source": [
    "\n",
    "# Test the function\n",
    "setA = {1, 2, 3, 4}\n",
    "setB = {3, 4, 5, 6}\n",
    "print(\"Jaccard Distance:\", jaccard_distance(setA, setB))\n"
   ]
  }
 ],
 "metadata": {
  "kernelspec": {
   "display_name": "torch",
   "language": "python",
   "name": "python3"
  },
  "language_info": {
   "codemirror_mode": {
    "name": "ipython",
    "version": 3
   },
   "file_extension": ".py",
   "mimetype": "text/x-python",
   "name": "python",
   "nbconvert_exporter": "python",
   "pygments_lexer": "ipython3",
   "version": "3.8.16"
  },
  "orig_nbformat": 4
 },
 "nbformat": 4,
 "nbformat_minor": 2
}
